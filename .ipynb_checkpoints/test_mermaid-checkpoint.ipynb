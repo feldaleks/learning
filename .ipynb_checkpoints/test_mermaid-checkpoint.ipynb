{
 "cells": [
  {
   "cell_type": "markdown",
   "id": "c8d0468b",
   "metadata": {},
   "source": [
    "```mermaid\n",
    "sequenceDiagram\n",
    "    participant dotcom\n",
    "    participant iframe\n",
    "    participant viewscreen\n",
    "    dotcom->>iframe: loads html w/ iframe url\n",
    "    iframe->>viewscreen: request template\n",
    "    viewscreen->>iframe: html & javascript\n",
    "    iframe->>dotcom: iframe ready\n",
    "    dotcom->>iframe: set mermaid data on iframe\n",
    "    iframe->>iframe: render mermaid\n",
    "```"
   ]
  },
  {
   "cell_type": "code",
   "execution_count": null,
   "id": "f9d16607",
   "metadata": {},
   "outputs": [],
   "source": []
  }
 ],
 "metadata": {
  "kernelspec": {
   "display_name": "Python 3 (ipykernel)",
   "language": "python",
   "name": "python3"
  },
  "language_info": {
   "codemirror_mode": {
    "name": "ipython",
    "version": 3
   },
   "file_extension": ".py",
   "mimetype": "text/x-python",
   "name": "python",
   "nbconvert_exporter": "python",
   "pygments_lexer": "ipython3",
   "version": "3.10.9"
  }
 },
 "nbformat": 4,
 "nbformat_minor": 5
}
